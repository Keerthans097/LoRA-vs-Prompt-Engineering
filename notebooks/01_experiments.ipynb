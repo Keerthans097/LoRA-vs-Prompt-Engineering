{
 "cells": [
  {
   "cell_type": "markdown",
   "id": "a08bde27",
   "metadata": {},
   "source": [
    "# LoRA vs Prompt Engineering — Demo Notebook\n",
    "Run small prompting and LoRA experiments; edit `configs/config.yaml` to change dataset."
   ]
  },
  {
   "cell_type": "code",
   "execution_count": null,
   "id": "db001e89",
   "metadata": {},
   "outputs": [],
   "source": [
    "import json, yaml, pandas as pd\n",
    "from pathlib import Path\n",
    "print('Ready.')"
   ]
  },
  {
   "cell_type": "code",
   "execution_count": null,
   "id": "76bfd851",
   "metadata": {},
   "outputs": [],
   "source": [
    "!python -m pip install -q -r requirements.txt"
   ]
  },
  {
   "cell_type": "code",
   "execution_count": null,
   "id": "5c22466c",
   "metadata": {},
   "outputs": [],
   "source": [
    "!python src/prompt_eval.py --config configs/config.yaml --k_shot 0 --seed 41 --out results/prompt_0shot_seed41.json"
   ]
  },
  {
   "cell_type": "code",
   "execution_count": null,
   "id": "32593be9",
   "metadata": {},
   "outputs": [],
   "source": [
    "!python src/lora_train_eval.py --config configs/config.yaml --n_train 128 --r 8 --seed 41 --outdir results/"
   ]
  },
  {
   "cell_type": "code",
   "execution_count": null,
   "id": "aedb42f5",
   "metadata": {},
   "outputs": [],
   "source": [
    "!python src/analysis.py --results_dir results/ --out_csv results/summary.csv\n",
    "import pandas as pd; df=pd.read_csv('results/summary.csv'); df.head()"
   ]
  }
 ],
 "metadata": {},
 "nbformat": 4,
 "nbformat_minor": 5
}
